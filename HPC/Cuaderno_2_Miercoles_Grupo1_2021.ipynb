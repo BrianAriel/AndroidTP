{
  "nbformat": 4,
  "nbformat_minor": 0,
  "metadata": {
    "accelerator": "GPU",
    "colab": {
      "name": "Cuaderno_2_Miercoles_Grupo1_2021.ipynb",
      "provenance": [],
      "collapsed_sections": [],
      "authorship_tag": "ABX9TyN2jqeECCbLIFnlyohOpnZP",
      "include_colab_link": true
    },
    "kernelspec": {
      "display_name": "Python 3",
      "name": "python3"
    },
    "language_info": {
      "name": "python"
    }
  },
  "cells": [
    {
      "cell_type": "markdown",
      "metadata": {
        "id": "view-in-github",
        "colab_type": "text"
      },
      "source": [
        "<a href=\"https://colab.research.google.com/github/BrianAriel/AndroidTP/blob/master/HPC/Cuaderno_2_Miercoles_Grupo1_2021.ipynb\" target=\"_parent\"><img src=\"https://colab.research.google.com/assets/colab-badge.svg\" alt=\"Open In Colab\"/></a>"
      ]
    },
    {
      "cell_type": "markdown",
      "metadata": {
        "id": "qFhVtCJOquSL"
      },
      "source": [
        "# **1 Introducción**\n",
        "En este cuaderno realizaremos la implementación tanto secuencial como paralela, mediante CUDA, del algoritmo de multiplicación de matrices. El objetivo es demostrar cómo se utiliza HPC en un contexto de simplificación de complejidad de algoritmos.\n",
        "\n",
        "Cada desarrollo mostrara los tiempos de ejecución por separado, pero no habrá una sección métricas dado que la explicación a dichos tiempos se extenderá en el informe.\n",
        "\n",
        "Definimos las matrices A, B y C donde C es la matriz resultado de la siguiente operación: A x B = C.\n",
        "\n",
        "El ejercicio es parametrizable tanto en el tamaño de las matrices involucradas como de la cantidad de hilos GPU a planificar. Además, se incluye manejo de excepciones en caso de introducir un size_matriz negativo y/o el caso en que se intente correr el ejercicio sin instalar pycuda.\n",
        "\n",
        "Para terminar con este cuaderno, existen las secciones conclusiones, que brindamos nuestro punto de vista con respecto a eventos o deducciones a partir de los resultados, y la bibliografía donde incluimos aquellos sitios que fueron de referencia y ayuda para el ejercicio."
      ]
    },
    {
      "cell_type": "markdown",
      "metadata": {
        "id": "xTszKm9OrUQM"
      },
      "source": [
        "# **2 Armado del ambiente**\n",
        "\n",
        "En este apartado nos encargamos de instalar el modulo pycuda, ademas de los imports útiles tanto para el desarrollo GPU como CPU y se setean dos matrices base que serviran para que ambas implementaciones traten los mismos datos"
      ]
    },
    {
      "cell_type": "code",
      "metadata": {
        "colab": {
          "base_uri": "https://localhost:8080/"
        },
        "id": "MtfYsDC4GnKB",
        "outputId": "c7446f87-89e3-4fbf-a147-00d8b2e8c0f4"
      },
      "source": [
        "#@title 2.1 Instalacion de librerias\n",
        "!pip install pycuda"
      ],
      "execution_count": 1,
      "outputs": [
        {
          "output_type": "stream",
          "text": [
            "Collecting pycuda\n",
            "\u001b[?25l  Downloading https://files.pythonhosted.org/packages/5a/56/4682a5118a234d15aa1c8768a528aac4858c7b04d2674e18d586d3dfda04/pycuda-2021.1.tar.gz (1.7MB)\n",
            "\r\u001b[K     |▏                               | 10kB 15.8MB/s eta 0:00:01\r\u001b[K     |▍                               | 20kB 22.2MB/s eta 0:00:01\r\u001b[K     |▋                               | 30kB 25.9MB/s eta 0:00:01\r\u001b[K     |▉                               | 40kB 18.9MB/s eta 0:00:01\r\u001b[K     |█                               | 51kB 9.1MB/s eta 0:00:01\r\u001b[K     |█▏                              | 61kB 8.9MB/s eta 0:00:01\r\u001b[K     |█▍                              | 71kB 9.6MB/s eta 0:00:01\r\u001b[K     |█▋                              | 81kB 10.6MB/s eta 0:00:01\r\u001b[K     |█▊                              | 92kB 11.0MB/s eta 0:00:01\r\u001b[K     |██                              | 102kB 8.7MB/s eta 0:00:01\r\u001b[K     |██▏                             | 112kB 8.7MB/s eta 0:00:01\r\u001b[K     |██▍                             | 122kB 8.7MB/s eta 0:00:01\r\u001b[K     |██▌                             | 133kB 8.7MB/s eta 0:00:01\r\u001b[K     |██▊                             | 143kB 8.7MB/s eta 0:00:01\r\u001b[K     |███                             | 153kB 8.7MB/s eta 0:00:01\r\u001b[K     |███▏                            | 163kB 8.7MB/s eta 0:00:01\r\u001b[K     |███▎                            | 174kB 8.7MB/s eta 0:00:01\r\u001b[K     |███▌                            | 184kB 8.7MB/s eta 0:00:01\r\u001b[K     |███▊                            | 194kB 8.7MB/s eta 0:00:01\r\u001b[K     |████                            | 204kB 8.7MB/s eta 0:00:01\r\u001b[K     |████                            | 215kB 8.7MB/s eta 0:00:01\r\u001b[K     |████▎                           | 225kB 8.7MB/s eta 0:00:01\r\u001b[K     |████▌                           | 235kB 8.7MB/s eta 0:00:01\r\u001b[K     |████▊                           | 245kB 8.7MB/s eta 0:00:01\r\u001b[K     |████▉                           | 256kB 8.7MB/s eta 0:00:01\r\u001b[K     |█████                           | 266kB 8.7MB/s eta 0:00:01\r\u001b[K     |█████▎                          | 276kB 8.7MB/s eta 0:00:01\r\u001b[K     |█████▌                          | 286kB 8.7MB/s eta 0:00:01\r\u001b[K     |█████▋                          | 296kB 8.7MB/s eta 0:00:01\r\u001b[K     |█████▉                          | 307kB 8.7MB/s eta 0:00:01\r\u001b[K     |██████                          | 317kB 8.7MB/s eta 0:00:01\r\u001b[K     |██████▎                         | 327kB 8.7MB/s eta 0:00:01\r\u001b[K     |██████▍                         | 337kB 8.7MB/s eta 0:00:01\r\u001b[K     |██████▋                         | 348kB 8.7MB/s eta 0:00:01\r\u001b[K     |██████▉                         | 358kB 8.7MB/s eta 0:00:01\r\u001b[K     |███████                         | 368kB 8.7MB/s eta 0:00:01\r\u001b[K     |███████▏                        | 378kB 8.7MB/s eta 0:00:01\r\u001b[K     |███████▍                        | 389kB 8.7MB/s eta 0:00:01\r\u001b[K     |███████▋                        | 399kB 8.7MB/s eta 0:00:01\r\u001b[K     |███████▉                        | 409kB 8.7MB/s eta 0:00:01\r\u001b[K     |████████                        | 419kB 8.7MB/s eta 0:00:01\r\u001b[K     |████████▏                       | 430kB 8.7MB/s eta 0:00:01\r\u001b[K     |████████▍                       | 440kB 8.7MB/s eta 0:00:01\r\u001b[K     |████████▋                       | 450kB 8.7MB/s eta 0:00:01\r\u001b[K     |████████▊                       | 460kB 8.7MB/s eta 0:00:01\r\u001b[K     |█████████                       | 471kB 8.7MB/s eta 0:00:01\r\u001b[K     |█████████▏                      | 481kB 8.7MB/s eta 0:00:01\r\u001b[K     |█████████▍                      | 491kB 8.7MB/s eta 0:00:01\r\u001b[K     |█████████▌                      | 501kB 8.7MB/s eta 0:00:01\r\u001b[K     |█████████▊                      | 512kB 8.7MB/s eta 0:00:01\r\u001b[K     |██████████                      | 522kB 8.7MB/s eta 0:00:01\r\u001b[K     |██████████▏                     | 532kB 8.7MB/s eta 0:00:01\r\u001b[K     |██████████▎                     | 542kB 8.7MB/s eta 0:00:01\r\u001b[K     |██████████▌                     | 552kB 8.7MB/s eta 0:00:01\r\u001b[K     |██████████▊                     | 563kB 8.7MB/s eta 0:00:01\r\u001b[K     |███████████                     | 573kB 8.7MB/s eta 0:00:01\r\u001b[K     |███████████                     | 583kB 8.7MB/s eta 0:00:01\r\u001b[K     |███████████▎                    | 593kB 8.7MB/s eta 0:00:01\r\u001b[K     |███████████▌                    | 604kB 8.7MB/s eta 0:00:01\r\u001b[K     |███████████▊                    | 614kB 8.7MB/s eta 0:00:01\r\u001b[K     |███████████▉                    | 624kB 8.7MB/s eta 0:00:01\r\u001b[K     |████████████                    | 634kB 8.7MB/s eta 0:00:01\r\u001b[K     |████████████▎                   | 645kB 8.7MB/s eta 0:00:01\r\u001b[K     |████████████▌                   | 655kB 8.7MB/s eta 0:00:01\r\u001b[K     |████████████▋                   | 665kB 8.7MB/s eta 0:00:01\r\u001b[K     |████████████▉                   | 675kB 8.7MB/s eta 0:00:01\r\u001b[K     |█████████████                   | 686kB 8.7MB/s eta 0:00:01\r\u001b[K     |█████████████▎                  | 696kB 8.7MB/s eta 0:00:01\r\u001b[K     |█████████████▍                  | 706kB 8.7MB/s eta 0:00:01\r\u001b[K     |█████████████▋                  | 716kB 8.7MB/s eta 0:00:01\r\u001b[K     |█████████████▉                  | 727kB 8.7MB/s eta 0:00:01\r\u001b[K     |██████████████                  | 737kB 8.7MB/s eta 0:00:01\r\u001b[K     |██████████████▏                 | 747kB 8.7MB/s eta 0:00:01\r\u001b[K     |██████████████▍                 | 757kB 8.7MB/s eta 0:00:01\r\u001b[K     |██████████████▋                 | 768kB 8.7MB/s eta 0:00:01\r\u001b[K     |██████████████▉                 | 778kB 8.7MB/s eta 0:00:01\r\u001b[K     |███████████████                 | 788kB 8.7MB/s eta 0:00:01\r\u001b[K     |███████████████▏                | 798kB 8.7MB/s eta 0:00:01\r\u001b[K     |███████████████▍                | 808kB 8.7MB/s eta 0:00:01\r\u001b[K     |███████████████▋                | 819kB 8.7MB/s eta 0:00:01\r\u001b[K     |███████████████▊                | 829kB 8.7MB/s eta 0:00:01\r\u001b[K     |████████████████                | 839kB 8.7MB/s eta 0:00:01\r\u001b[K     |████████████████▏               | 849kB 8.7MB/s eta 0:00:01\r\u001b[K     |████████████████▍               | 860kB 8.7MB/s eta 0:00:01\r\u001b[K     |████████████████▌               | 870kB 8.7MB/s eta 0:00:01\r\u001b[K     |████████████████▊               | 880kB 8.7MB/s eta 0:00:01\r\u001b[K     |█████████████████               | 890kB 8.7MB/s eta 0:00:01\r\u001b[K     |█████████████████▏              | 901kB 8.7MB/s eta 0:00:01\r\u001b[K     |█████████████████▍              | 911kB 8.7MB/s eta 0:00:01\r\u001b[K     |█████████████████▌              | 921kB 8.7MB/s eta 0:00:01\r\u001b[K     |█████████████████▊              | 931kB 8.7MB/s eta 0:00:01\r\u001b[K     |██████████████████              | 942kB 8.7MB/s eta 0:00:01\r\u001b[K     |██████████████████▏             | 952kB 8.7MB/s eta 0:00:01\r\u001b[K     |██████████████████▎             | 962kB 8.7MB/s eta 0:00:01\r\u001b[K     |██████████████████▌             | 972kB 8.7MB/s eta 0:00:01\r\u001b[K     |██████████████████▊             | 983kB 8.7MB/s eta 0:00:01\r\u001b[K     |███████████████████             | 993kB 8.7MB/s eta 0:00:01\r\u001b[K     |███████████████████             | 1.0MB 8.7MB/s eta 0:00:01\r\u001b[K     |███████████████████▎            | 1.0MB 8.7MB/s eta 0:00:01\r\u001b[K     |███████████████████▌            | 1.0MB 8.7MB/s eta 0:00:01\r\u001b[K     |███████████████████▊            | 1.0MB 8.7MB/s eta 0:00:01\r\u001b[K     |███████████████████▉            | 1.0MB 8.7MB/s eta 0:00:01\r\u001b[K     |████████████████████            | 1.1MB 8.7MB/s eta 0:00:01\r\u001b[K     |████████████████████▎           | 1.1MB 8.7MB/s eta 0:00:01\r\u001b[K     |████████████████████▌           | 1.1MB 8.7MB/s eta 0:00:01\r\u001b[K     |████████████████████▋           | 1.1MB 8.7MB/s eta 0:00:01\r\u001b[K     |████████████████████▉           | 1.1MB 8.7MB/s eta 0:00:01\r\u001b[K     |█████████████████████           | 1.1MB 8.7MB/s eta 0:00:01\r\u001b[K     |█████████████████████▎          | 1.1MB 8.7MB/s eta 0:00:01\r\u001b[K     |█████████████████████▍          | 1.1MB 8.7MB/s eta 0:00:01\r\u001b[K     |█████████████████████▋          | 1.1MB 8.7MB/s eta 0:00:01\r\u001b[K     |█████████████████████▉          | 1.1MB 8.7MB/s eta 0:00:01\r\u001b[K     |██████████████████████          | 1.2MB 8.7MB/s eta 0:00:01\r\u001b[K     |██████████████████████▏         | 1.2MB 8.7MB/s eta 0:00:01\r\u001b[K     |██████████████████████▍         | 1.2MB 8.7MB/s eta 0:00:01\r\u001b[K     |██████████████████████▋         | 1.2MB 8.7MB/s eta 0:00:01\r\u001b[K     |██████████████████████▉         | 1.2MB 8.7MB/s eta 0:00:01\r\u001b[K     |███████████████████████         | 1.2MB 8.7MB/s eta 0:00:01\r\u001b[K     |███████████████████████▏        | 1.2MB 8.7MB/s eta 0:00:01\r\u001b[K     |███████████████████████▍        | 1.2MB 8.7MB/s eta 0:00:01\r\u001b[K     |███████████████████████▋        | 1.2MB 8.7MB/s eta 0:00:01\r\u001b[K     |███████████████████████▊        | 1.2MB 8.7MB/s eta 0:00:01\r\u001b[K     |████████████████████████        | 1.3MB 8.7MB/s eta 0:00:01\r\u001b[K     |████████████████████████▏       | 1.3MB 8.7MB/s eta 0:00:01\r\u001b[K     |████████████████████████▍       | 1.3MB 8.7MB/s eta 0:00:01\r\u001b[K     |████████████████████████▌       | 1.3MB 8.7MB/s eta 0:00:01\r\u001b[K     |████████████████████████▊       | 1.3MB 8.7MB/s eta 0:00:01\r\u001b[K     |█████████████████████████       | 1.3MB 8.7MB/s eta 0:00:01\r\u001b[K     |█████████████████████████▏      | 1.3MB 8.7MB/s eta 0:00:01\r\u001b[K     |█████████████████████████▎      | 1.3MB 8.7MB/s eta 0:00:01\r\u001b[K     |█████████████████████████▌      | 1.3MB 8.7MB/s eta 0:00:01\r\u001b[K     |█████████████████████████▊      | 1.4MB 8.7MB/s eta 0:00:01\r\u001b[K     |██████████████████████████      | 1.4MB 8.7MB/s eta 0:00:01\r\u001b[K     |██████████████████████████      | 1.4MB 8.7MB/s eta 0:00:01\r\u001b[K     |██████████████████████████▎     | 1.4MB 8.7MB/s eta 0:00:01\r\u001b[K     |██████████████████████████▌     | 1.4MB 8.7MB/s eta 0:00:01\r\u001b[K     |██████████████████████████▊     | 1.4MB 8.7MB/s eta 0:00:01\r\u001b[K     |██████████████████████████▉     | 1.4MB 8.7MB/s eta 0:00:01\r\u001b[K     |███████████████████████████     | 1.4MB 8.7MB/s eta 0:00:01\r\u001b[K     |███████████████████████████▎    | 1.4MB 8.7MB/s eta 0:00:01\r\u001b[K     |███████████████████████████▌    | 1.4MB 8.7MB/s eta 0:00:01\r\u001b[K     |███████████████████████████▋    | 1.5MB 8.7MB/s eta 0:00:01\r\u001b[K     |███████████████████████████▉    | 1.5MB 8.7MB/s eta 0:00:01\r\u001b[K     |████████████████████████████    | 1.5MB 8.7MB/s eta 0:00:01\r\u001b[K     |████████████████████████████▎   | 1.5MB 8.7MB/s eta 0:00:01\r\u001b[K     |████████████████████████████▍   | 1.5MB 8.7MB/s eta 0:00:01\r\u001b[K     |████████████████████████████▋   | 1.5MB 8.7MB/s eta 0:00:01\r\u001b[K     |████████████████████████████▉   | 1.5MB 8.7MB/s eta 0:00:01\r\u001b[K     |█████████████████████████████   | 1.5MB 8.7MB/s eta 0:00:01\r\u001b[K     |█████████████████████████████▏  | 1.5MB 8.7MB/s eta 0:00:01\r\u001b[K     |█████████████████████████████▍  | 1.5MB 8.7MB/s eta 0:00:01\r\u001b[K     |█████████████████████████████▋  | 1.6MB 8.7MB/s eta 0:00:01\r\u001b[K     |█████████████████████████████▉  | 1.6MB 8.7MB/s eta 0:00:01\r\u001b[K     |██████████████████████████████  | 1.6MB 8.7MB/s eta 0:00:01\r\u001b[K     |██████████████████████████████▏ | 1.6MB 8.7MB/s eta 0:00:01\r\u001b[K     |██████████████████████████████▍ | 1.6MB 8.7MB/s eta 0:00:01\r\u001b[K     |██████████████████████████████▋ | 1.6MB 8.7MB/s eta 0:00:01\r\u001b[K     |██████████████████████████████▊ | 1.6MB 8.7MB/s eta 0:00:01\r\u001b[K     |███████████████████████████████ | 1.6MB 8.7MB/s eta 0:00:01\r\u001b[K     |███████████████████████████████▏| 1.6MB 8.7MB/s eta 0:00:01\r\u001b[K     |███████████████████████████████▍| 1.6MB 8.7MB/s eta 0:00:01\r\u001b[K     |███████████████████████████████▌| 1.7MB 8.7MB/s eta 0:00:01\r\u001b[K     |███████████████████████████████▊| 1.7MB 8.7MB/s eta 0:00:01\r\u001b[K     |████████████████████████████████| 1.7MB 8.7MB/s eta 0:00:01\r\u001b[K     |████████████████████████████████| 1.7MB 8.7MB/s \n",
            "\u001b[?25h  Installing build dependencies ... \u001b[?25l\u001b[?25hdone\n",
            "  Getting requirements to build wheel ... \u001b[?25l\u001b[?25hdone\n",
            "    Preparing wheel metadata ... \u001b[?25l\u001b[?25hdone\n",
            "Collecting pytools>=2011.2\n",
            "\u001b[?25l  Downloading https://files.pythonhosted.org/packages/52/26/c7ab098ceb4e4e3f0e66e21257a286bb455ea22af7afefbd704d9ccf324c/pytools-2021.2.7.tar.gz (63kB)\n",
            "\u001b[K     |████████████████████████████████| 71kB 11.0MB/s \n",
            "\u001b[?25hRequirement already satisfied: appdirs>=1.4.0 in /usr/local/lib/python3.7/dist-packages (from pycuda) (1.4.4)\n",
            "Collecting mako\n",
            "\u001b[?25l  Downloading https://files.pythonhosted.org/packages/f3/54/dbc07fbb20865d3b78fdb7cf7fa713e2cba4f87f71100074ef2dc9f9d1f7/Mako-1.1.4-py2.py3-none-any.whl (75kB)\n",
            "\u001b[K     |████████████████████████████████| 81kB 11.4MB/s \n",
            "\u001b[?25hRequirement already satisfied: numpy>=1.6.0 in /usr/local/lib/python3.7/dist-packages (from pytools>=2011.2->pycuda) (1.19.5)\n",
            "Requirement already satisfied: MarkupSafe>=0.9.2 in /usr/local/lib/python3.7/dist-packages (from mako->pycuda) (2.0.1)\n",
            "Building wheels for collected packages: pycuda\n",
            "  Building wheel for pycuda (PEP 517) ... \u001b[?25l\u001b[?25hdone\n",
            "  Created wheel for pycuda: filename=pycuda-2021.1-cp37-cp37m-linux_x86_64.whl size=627172 sha256=a0fddb9771a3028e515b664be855a340556772ff5aeccc5d440fb7b4b54364ff\n",
            "  Stored in directory: /root/.cache/pip/wheels/d5/55/64/fd4dddcc5f1c25eebd90b5291c3769101dc978c70165685512\n",
            "Successfully built pycuda\n",
            "Building wheels for collected packages: pytools\n",
            "  Building wheel for pytools (setup.py) ... \u001b[?25l\u001b[?25hdone\n",
            "  Created wheel for pytools: filename=pytools-2021.2.7-py2.py3-none-any.whl size=60644 sha256=d8989170a03d5784488534ddad8376f90ed453053edb206dbd29af11715fab05\n",
            "  Stored in directory: /root/.cache/pip/wheels/a0/b5/e5/e65d25997fd77729b9aa214645add18688483e48bbcbab6ffc\n",
            "Successfully built pytools\n",
            "Installing collected packages: pytools, mako, pycuda\n",
            "Successfully installed mako-1.1.4 pycuda-2021.1 pytools-2021.2.7\n"
          ],
          "name": "stdout"
        }
      ]
    },
    {
      "cell_type": "code",
      "metadata": {
        "id": "fw-pWL5DekXB"
      },
      "source": [
        "#@title 2.2 Imports y creacion de matrices\n",
        "#@markdown ---\n",
        "size_matriz =  300#@param {type:\"number\"}\n",
        "#@markdown ---\n",
        "from datetime import datetime\n",
        "import sys\n",
        "import numpy\n",
        "try :\n",
        "  import pycuda.driver as cuda\n",
        "except ModuleNotFoundError:\n",
        "  sys.exit(\"No se pudo importar el paquete de cuda, primero debe ejecutar el comando que lo descarga en la sección de armado del ambiente\")\n",
        "import pycuda.autoinit\n",
        "from pycuda.compiler import SourceModule\n",
        "\n",
        "#Creamos las matrices\n",
        "try:\n",
        "  if size_matriz > 0:\n",
        "      matriz_a = numpy.random.randint(1, 3 + 1,(size_matriz, size_matriz)).astype(numpy.int32)\n",
        "      matriz_b = numpy.random.randint(1, 3 + 1,(size_matriz, size_matriz)).astype(numpy.int32)   \n",
        "  else:\n",
        "    raise Exception(\"Las matrices no pueden tener tamaño menor a 0\")\n",
        "except Exception as e:\n",
        "  sys.exit(e.args)\n"
      ],
      "execution_count": 9,
      "outputs": []
    },
    {
      "cell_type": "markdown",
      "metadata": {
        "id": "f5zhQljArZ5h"
      },
      "source": [
        "# **3 Desarrollo GPU**\n",
        "\n",
        "En esta implementación se ve el procedimiento estandar para ejecutar código en CUDA donde primero se crean las variables en la CPU, se reserva el tamaño de las mismas en la memoria de GPU y se copian desde el host al dispositivo. Definimos nuestra función kernel y la invocamos, copiando el resultado desde el dispositivo al host una vez que finalice la ejecución de los hilos planificados. Al finalizar mostramos los resultados\n",
        "\n",
        "En cuanto a la lógica del kernel, la misma es la siguiente:\n",
        "Cada hilo tendrá su índice el cuál se calcula a partir de su número de hilo más su valor de su respectivo bloque. Solo si se trata de un hilo que no fue planificado de más, es decir, que su número de hilo no es mayor al tamaño de la matriz, se realizará lo siguiente:\n",
        "Cada hilo toma una fila de A y una columna de B, realizando la suma del producto de cada componente de la fila para producir un elemento de C\n"
      ]
    },
    {
      "cell_type": "code",
      "metadata": {
        "colab": {
          "base_uri": "https://localhost:8080/"
        },
        "id": "aOmdQgXhGa1s",
        "outputId": "984dd581-0e86-40e7-dac9-7424ea095cda"
      },
      "source": [
        "#@markdown ---\n",
        "cantidad_hilos_GPU = 16 #@param {type:\"slider\", min:1, max:32, step:1}\n",
        "#@markdown ---\n",
        "\n",
        "# --------------------------------------------\n",
        "# Definición de función que transforma el tiempo en  milisegundos \n",
        "tiempo_en_ms = lambda dt:(dt.days * 24 * 60 * 60 + dt.seconds) * 1000 + dt.microseconds / 1000.0\n",
        "# --------------------------------------------\n",
        "\n",
        "tiempo_ejecucion_concurrente = datetime.now()\n",
        "\n",
        "#Creamos las matrices\n",
        "matriz_a_cpu = matriz_a\n",
        "matriz_b_cpu = matriz_b\n",
        "matriz_c_cpu = numpy.empty_like(matriz_a_cpu)\n",
        "\n",
        "#Reservamos la memoria en GPU para las matrices\n",
        "matriz_a_gpu = cuda.mem_alloc(matriz_a_cpu.nbytes)\n",
        "matriz_b_gpu = cuda.mem_alloc(matriz_b_cpu.nbytes)\n",
        "matriz_c_gpu = cuda.mem_alloc(matriz_c_cpu.nbytes)\n",
        "\n",
        "#Copiamos las matrices de memoria principal a memoria GPU\n",
        "cuda.memcpy_htod(matriz_a_gpu, matriz_a_cpu)\n",
        "cuda.memcpy_htod(matriz_b_gpu, matriz_b_cpu)\n",
        "cuda.memcpy_htod(matriz_c_gpu, matriz_c_cpu)\n",
        "\n",
        "#Definimos la funcion kernel\n",
        "module = SourceModule(\"\"\"\n",
        "__global__ void mult_matrices(int *a, int *b, int *c, int TAM_MATRIZ)\n",
        "{\n",
        "  int idx = threadIdx.x + blockIdx.x * blockDim.x;\n",
        "  int idy = threadIdx.y + blockIdx.y * blockDim.y;\n",
        "\n",
        "  int Pvalue = 0, Aelement, Belement;\n",
        "\n",
        "  if(idx < TAM_MATRIZ && idy < TAM_MATRIZ)\n",
        "  {\n",
        "    for(int k = 0; k < TAM_MATRIZ; ++k)\n",
        "    {\n",
        "      Aelement = a[idy * TAM_MATRIZ + k];\n",
        "      Belement = b[TAM_MATRIZ * k + idx];\n",
        "      Pvalue += Aelement * Belement;\n",
        "    }\n",
        "    c[idy * TAM_MATRIZ + idx] = Pvalue;\n",
        "  }\n",
        "}\n",
        "\"\"\")\n",
        "\n",
        "#Generamos la funcion kernel\n",
        "kernel = module.get_function(\"mult_matrices\")\n",
        "\n",
        "#Planificamos la cantidad de hilos segun los parametros\n",
        "dim_hilo_x = cantidad_hilos_GPU\n",
        "#Definimos el tamaño del bloque\n",
        "dim_bloque_x = numpy.int((cantidad_hilos_GPU + size_matriz - 1) / dim_hilo_x)\n",
        "\n",
        "#Planificamos la cantidad de hilos segun los parametros\n",
        "dim_hilo_y = cantidad_hilos_GPU\n",
        "#Definimos el tamaño del bloque\n",
        "dim_bloque_y = numpy.int((cantidad_hilos_GPU + size_matriz - 1) / dim_hilo_y)\n",
        "\n",
        "#Llamamos a la funcion kernel\n",
        "kernel(matriz_a_gpu, matriz_b_gpu, matriz_c_gpu, numpy.int32(size_matriz),\n",
        "           block=(dim_hilo_x, dim_hilo_y, 1), grid=(dim_bloque_x, dim_bloque_y,1))\n",
        "\n",
        "#Esperamos la finalizacion de todos los threads planificados\n",
        "cuda.Context.synchronize()\n",
        "\n",
        "#Copiamos los resultados alojados en la memoria GPU a la memoria principal\n",
        "cuda.memcpy_dtoh(matriz_a_cpu,matriz_a_gpu)\n",
        "cuda.memcpy_dtoh(matriz_b_cpu,matriz_b_gpu)\n",
        "cuda.memcpy_dtoh(matriz_c_cpu,matriz_c_gpu)\n",
        "\n",
        "tiempo_ejecucion_concurrente = datetime.now() - tiempo_ejecucion_concurrente\n",
        "print(\"Tiempo de ejecucion GPU:\", tiempo_en_ms(tiempo_ejecucion_concurrente), \"[ms]\")\n",
        "\n",
        "#Imprimimos los resultados\n",
        "print (\"Matriz A:\")\n",
        "print (matriz_a_cpu)\n",
        "\n",
        "print (\"Matriz B:\")\n",
        "print (matriz_b_cpu)\n",
        "\n",
        "print (\"Matriz C:\")\n",
        "print (matriz_c_cpu)"
      ],
      "execution_count": 10,
      "outputs": [
        {
          "output_type": "stream",
          "text": [
            "Tiempo de ejecucion GPU: 4.367 [ms]\n",
            "Matriz A:\n",
            "[[1 3 1 ... 2 1 3]\n",
            " [3 2 3 ... 2 3 3]\n",
            " [3 2 2 ... 2 3 3]\n",
            " ...\n",
            " [3 1 1 ... 3 2 1]\n",
            " [2 2 3 ... 1 1 1]\n",
            " [2 1 2 ... 2 3 1]]\n",
            "Matriz B:\n",
            "[[3 1 2 ... 1 2 2]\n",
            " [1 2 1 ... 1 1 1]\n",
            " [2 2 2 ... 3 3 2]\n",
            " ...\n",
            " [1 3 3 ... 2 3 2]\n",
            " [3 2 2 ... 1 2 3]\n",
            " [1 3 3 ... 2 3 3]]\n",
            "Matriz C:\n",
            "[[1212 1189 1137 ... 1133 1192 1164]\n",
            " [1229 1221 1141 ... 1174 1209 1188]\n",
            " [1236 1201 1175 ... 1159 1245 1206]\n",
            " ...\n",
            " [1261 1249 1189 ... 1178 1252 1190]\n",
            " [1223 1213 1141 ... 1156 1211 1154]\n",
            " [1239 1260 1207 ... 1225 1240 1237]]\n"
          ],
          "name": "stdout"
        }
      ]
    },
    {
      "cell_type": "markdown",
      "metadata": {
        "id": "tjYhXiFZaPO5"
      },
      "source": [
        "# **4 Desarrollo CPU**\n",
        "\n",
        "Es un desarrollo bastante simple: un triple bucle donde el for mayor itera a traves de las filas de A. El primer for anidado itera sobre las columnas de B y el ultimo se encarga de recorrer las filas de B. Finalmente, el resultado se aloja en C, guardando la sumatoria de los productos de cada elemento"
      ]
    },
    {
      "cell_type": "code",
      "metadata": {
        "colab": {
          "base_uri": "https://localhost:8080/"
        },
        "id": "1rnGRHr3bKTI",
        "outputId": "48d8ff28-6abd-484f-fb43-00e7a74e7285"
      },
      "source": [
        "matriz_a_cpu = matriz_a\n",
        "matriz_b_cpu = matriz_b\n",
        "matriz_c_cpu = numpy.zeros_like(matriz_a_cpu)\n",
        "\n",
        "tiempo_ejecucion_secuencial = datetime.now()\n",
        "\n",
        "#Iterar a traves filas de A\n",
        "for i in range(len(matriz_a_cpu)):\n",
        "   #Iterar a traves de columnas de B\n",
        "   for j in range(len(matriz_a_cpu)):\n",
        "       # iterate a traves de filas de B\n",
        "       for k in range(len(matriz_a_cpu)):\n",
        "           matriz_c_cpu[i][j] += matriz_a_cpu[i][k] * matriz_b_cpu[k][j]\n",
        "\n",
        "tiempo_ejecucion_secuencial = datetime.now() - tiempo_ejecucion_secuencial\n",
        "\n",
        "print(\"Tiempo de ejecucion CPU:\", tiempo_en_ms(tiempo_ejecucion_secuencial), \"[ms]\")\n",
        "\n",
        "#Imprimimos los resultados\n",
        "print (\"Matriz A:\")\n",
        "print (matriz_a_cpu)\n",
        "\n",
        "print (\"Matriz B:\")\n",
        "print (matriz_b_cpu)\n",
        "\n",
        "print (\"Matriz C:\")\n",
        "print (matriz_c_cpu)"
      ],
      "execution_count": 12,
      "outputs": [
        {
          "output_type": "stream",
          "text": [
            "Tiempo de ejecucion CPU: 35906.69 [ms]\n",
            "Matriz A:\n",
            "[[1 3 1 ... 2 1 3]\n",
            " [3 2 3 ... 2 3 3]\n",
            " [3 2 2 ... 2 3 3]\n",
            " ...\n",
            " [3 1 1 ... 3 2 1]\n",
            " [2 2 3 ... 1 1 1]\n",
            " [2 1 2 ... 2 3 1]]\n",
            "Matriz B:\n",
            "[[3 1 2 ... 1 2 2]\n",
            " [1 2 1 ... 1 1 1]\n",
            " [2 2 2 ... 3 3 2]\n",
            " ...\n",
            " [1 3 3 ... 2 3 2]\n",
            " [3 2 2 ... 1 2 3]\n",
            " [1 3 3 ... 2 3 3]]\n",
            "Matriz C:\n",
            "[[1212 1189 1137 ... 1133 1192 1164]\n",
            " [1229 1221 1141 ... 1174 1209 1188]\n",
            " [1236 1201 1175 ... 1159 1245 1206]\n",
            " ...\n",
            " [1261 1249 1189 ... 1178 1252 1190]\n",
            " [1223 1213 1141 ... 1156 1211 1154]\n",
            " [1239 1260 1207 ... 1225 1240 1237]]\n"
          ],
          "name": "stdout"
        }
      ]
    },
    {
      "cell_type": "markdown",
      "metadata": {
        "id": "NCkBvgg2rgve"
      },
      "source": [
        "# **5 Conclusiones**\n",
        "Consideramos que la implementación paralela del algoritmo de la multiplicación de matrices es de suma importancia teniendo en cuenta las aplicaciones que el cálculo puede tener: análisis de patrones climáticos, realizar operaciones de álgebra lineal, reconocimiento facial, vehículos autónomos y robotica, análisis de grafos entre muchos otros.\n",
        "\n",
        "Por otro lado, si bien no vamos a detallar en este cuaderno cuestiones de tiempos de ejecución, queríamos marcar que mientras se desarrollaba el mismo notamos que a partir de matrices de tamaño 300X300 la ejecución secuencial empieza a notar mermas en su finalización llegando a tardar 23 segundos en terminar.\n",
        "\n",
        "La forma prototipada de implementar CUDA, cuyos pasos estan detallados en la sección 3 Desarrollo GPU, denota que la unica lógica a tener en cuenta es aquella explayada en la funcion kernel, dejando al resto del código como un simple seteo de variables y reservación de memoria.\n",
        "\n",
        "Para finalizar, animamos a quienes visualicen este cuaderno a probar la ejecución GPU (aunque no la CPU dado los tiempos para finalizar) con tamaños de matrices elevados (con valores de 5000x5000 se vuelve mucho mas interesante) para ver y analizar cuánto se tarda en terminar el algoritmo."
      ]
    },
    {
      "cell_type": "markdown",
      "metadata": {
        "id": "4I6KOHFVrkwq"
      },
      "source": [
        "# **6 Bibliografía**\n",
        "\n",
        "---\n",
        "\n",
        "[1] W.Valiente. SOA_HPC [Online]. Available: https://github.com/wvaliente/SOA_HPC/blob/main/Trabajos_Destacados/Cuaderno%202020%20Arzola%20Fractal%20OpenCL.ipynb\n",
        "\n",
        "---\n",
        "\n",
        "[2] W.Valiente. SOA_HPC [Online]. Available: https://github.com/wvaliente/SOA_HPC/blob/main/Trabajos_DestacadosCuaderno%202020%20Cabre%20Bordes%20de%20imagen%20CUDA.ipynb\n",
        "\n",
        "---\n",
        "\n",
        "[3] PyCUDA Mutli GPU multiplication [Online]. Available: https://shephexd.github.io/development/2017/02/19/pycuda.html\n",
        "\n",
        "---\n",
        "\n",
        "[4] StackOverflow [Online]. Available: https://stackoverflow.com/questions/21130121/pycuda-precision-of-matrix-multiplication-code\n",
        "\n",
        "---\n",
        "\n",
        "[5] StackOverflow [Online]. Available: https://stackoverflow.com/questions/15451958/simple-way-to-create-matrix-of-random-numbers\n",
        "\n",
        "---\n",
        "\n",
        "[6] NumPy Documentation [Online]. Available: https://numpy.org/doc/stable/reference/generated/numpy.zeros_like.html\n",
        "\n",
        "---\n",
        "\n",
        "[7] NumPy Documentation [Online]. Available: https://numpy.org/doc/1.16/reference/routines.random.html"
      ]
    }
  ]
}