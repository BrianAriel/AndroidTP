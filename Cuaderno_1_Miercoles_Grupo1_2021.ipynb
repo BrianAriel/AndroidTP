{
  "nbformat": 4,
  "nbformat_minor": 0,
  "metadata": {
    "colab": {
      "name": "Cuaderno_1_Miercoles_Grupo1_2021",
      "provenance": [],
      "collapsed_sections": [],
      "authorship_tag": "ABX9TyMbDZX4grSa/8lbYQUgcp65",
      "include_colab_link": true
    },
    "kernelspec": {
      "name": "python3",
      "display_name": "Python 3"
    },
    "language_info": {
      "name": "python"
    }
  },
  "cells": [
    {
      "cell_type": "markdown",
      "metadata": {
        "id": "view-in-github",
        "colab_type": "text"
      },
      "source": [
        "<a href=\"https://colab.research.google.com/github/BrianAriel/AndroidTP/blob/master/Cuaderno_1_Miercoles_Grupo1_2021.ipynb\" target=\"_parent\"><img src=\"https://colab.research.google.com/assets/colab-badge.svg\" alt=\"Open In Colab\"/></a>"
      ]
    },
    {
      "cell_type": "code",
      "metadata": {
        "id": "HO-_SgGAt3Vw"
      },
      "source": [
        ""
      ],
      "execution_count": null,
      "outputs": []
    }
  ]
}